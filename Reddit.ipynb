{
  "nbformat": 4,
  "nbformat_minor": 0,
  "metadata": {
    "colab": {
      "name": "Reddit.ipynb",
      "provenance": []
    },
    "kernelspec": {
      "name": "python3",
      "display_name": "Python 3"
    }
  },
  "cells": [
    {
      "cell_type": "code",
      "metadata": {
        "id": "XectmxjBJSh4",
        "colab_type": "code",
        "colab": {
          "base_uri": "https://localhost:8080/",
          "height": 228
        },
        "outputId": "1e5a34a7-eb88-4c35-9cd1-fb28fea70d0e"
      },
      "source": [
        "!pip3 install socialreaper==0.3.0"
      ],
      "execution_count": null,
      "outputs": [
        {
          "output_type": "stream",
          "text": [
            "Collecting socialreaper==0.3.0\n",
            "  Downloading https://files.pythonhosted.org/packages/db/b4/c2999e4d21c3ed9112f87ef2838b7e4e338f0da28bf76fd704fffe4fefea/socialreaper-0.3.0-py3-none-any.whl\n",
            "Requirement already satisfied: requests-oauthlib>=0.7.0 in /usr/local/lib/python3.6/dist-packages (from socialreaper==0.3.0) (1.3.0)\n",
            "Requirement already satisfied: requests>=2.11.1 in /usr/local/lib/python3.6/dist-packages (from socialreaper==0.3.0) (2.23.0)\n",
            "Requirement already satisfied: oauthlib>=2.0.1 in /usr/local/lib/python3.6/dist-packages (from socialreaper==0.3.0) (3.1.0)\n",
            "Requirement already satisfied: urllib3!=1.25.0,!=1.25.1,<1.26,>=1.21.1 in /usr/local/lib/python3.6/dist-packages (from requests>=2.11.1->socialreaper==0.3.0) (1.24.3)\n",
            "Requirement already satisfied: chardet<4,>=3.0.2 in /usr/local/lib/python3.6/dist-packages (from requests>=2.11.1->socialreaper==0.3.0) (3.0.4)\n",
            "Requirement already satisfied: idna<3,>=2.5 in /usr/local/lib/python3.6/dist-packages (from requests>=2.11.1->socialreaper==0.3.0) (2.10)\n",
            "Requirement already satisfied: certifi>=2017.4.17 in /usr/local/lib/python3.6/dist-packages (from requests>=2.11.1->socialreaper==0.3.0) (2020.6.20)\n",
            "Installing collected packages: socialreaper\n",
            "Successfully installed socialreaper-0.3.0\n"
          ],
          "name": "stdout"
        }
      ]
    },
    {
      "cell_type": "code",
      "metadata": {
        "id": "yn822IZ2XbsB",
        "colab_type": "code",
        "colab": {
          "base_uri": "https://localhost:8080/",
          "height": 973
        },
        "outputId": "50cb0189-43c3-41a8-d7ee-9c9e7f0e0e95"
      },
      "source": [
        "from socialreaper import Reddit\n",
        "from socialreaper.tools import flatten\n",
        "\n",
        "rdt = Reddit(\"I6tELJ5iOfBuew\", \"MRIpTXLYFq_E3RLzI0P2kKy-TcM\")\n",
        " \n",
        "comments = rdt.subreddit_thread_comments(\"coronavirus\", thread_count=50, \n",
        "    comment_count=500, thread_order=\"top\", comment_order=\"top\", \n",
        "    search_time_period=\"all\")\n",
        "    \n",
        "# Convert nested dictionary into flat dictionary\n",
        "comments = [flatten(comment) for comment in comments]\n",
        "\n",
        "# Sort by comment score\n",
        "comments = sorted(comments, key=lambda k: k['data.score'], reverse=True)\n",
        "\n",
        "# Print the top 10\n",
        "for comment in comments[:9]:\n",
        "    print(\"###\\nUser: {}\\nScore: {}\\nComment: {}\\n\".format(comment['data.author'], comment['data.score'], comment['data.body']))"
      ],
      "execution_count": null,
      "outputs": [
        {
          "output_type": "stream",
          "text": [
            "###\n",
            "User: Isolatedbamafan\n",
            "Score: 23176\n",
            "Comment: Just like the simulations\n",
            "\n",
            "###\n",
            "User: waffle-fil-a\n",
            "Score: 16946\n",
            "Comment: A reminder to all that he'll be 80 this year, and is well beyond retirement age. He doesn't have to be doing what he's doing for us.\n",
            "\n",
            "###\n",
            "User: tweellatte117\n",
            "Score: 16897\n",
            "Comment: r/publicfreakout is about to get an influx of content\n",
            "\n",
            "\n",
            "Edit: thank you for the thing\n",
            "\n",
            "###\n",
            "User: wadenelsonredditor\n",
            "Score: 16051\n",
            "Comment: “I do not feel obliged to believe that the same God who has endowed us with sense, reason, and intellect has intended us to forgo their use.”\n",
            "\n",
            "― Galileo Galilei, Letter to the Grand Duchess Christina\n",
            "\n",
            "###\n",
            "User: Fugazi-Slayer\n",
            "Score: 15806\n",
            "Comment: Rich people think the rules don't apply to them. No surprise.\n",
            "\n",
            "###\n",
            "User: NewTubeReview\n",
            "Score: 15675\n",
            "Comment: A very simple answer is that any bailouts should be rewarded with a stock equity position in the companies. When things turn around, and stocks rise, then the owners (ie taxpayers) get paid back and earn profits. This is exactly how takeovers work.\n",
            "\n",
            "###\n",
            "User: PryomancerMTGA\n",
            "Score: 14295\n",
            "Comment: *\"Here's the bad part: when you do testing to that extent, you're going to find more people, you're going to find more cases. So I said to my people, slow the testing down please.\"* \n",
            "\n",
            "Wow... You could argue the quote was out of context; but I'm having a hard time thinking of a context in which that isn't just wrong.\n",
            "\n",
            "###\n",
            "User: turk4lyfe\n",
            "Score: 11808\n",
            "Comment: I don't understand why the White House even has the power to choose who can and cannot testify at these discussions.\n",
            "\n",
            "Edit: And why don't our elected officials just have them testify anyway?? Would they be arrested?\n",
            "\n",
            "###\n",
            "User: wolfmoonrising\n",
            "Score: 11366\n",
            "Comment: I am staying right where I am. At home\n",
            "\n"
          ],
          "name": "stdout"
        }
      ]
    },
    {
      "cell_type": "code",
      "metadata": {
        "id": "ZwOTon5nb7OY",
        "colab_type": "code",
        "colab": {
          "base_uri": "https://localhost:8080/",
          "height": 453
        },
        "outputId": "16a67bad-d28b-4831-a08a-fbf189cc3b29"
      },
      "source": [
        "from socialreaper import Reddit\n",
        "from socialreaper.tools import flatten\n",
        "\n",
        "rdt = Reddit(\"I6tELJ5iOfBuew\", \"MRIpTXLYFq_E3RLzI0P2kKy-TcM\")\n",
        " \n",
        "comments = rdt.subreddit_thread_comments(\"Gleevec\", thread_count=50, \n",
        "    comment_count=500, thread_order=\"top\", comment_order=\"top\", \n",
        "    search_time_period=\"all\")\n",
        "    \n",
        "# Convert nested dictionary into flat dictionary\n",
        "comments = [flatten(comment) for comment in comments]\n",
        "\n",
        "# Sort by comment score\n",
        "comments = sorted(comments, key=lambda k: k['data.score'], reverse=True)\n",
        "\n",
        "# Print the top 10\n",
        "for comment in comments[:9]:\n",
        "    print(\"###\\nUser: {}\\nScore: {}\\nComment: {}\\n\".format(comment['data.author'], comment['data.score'], comment['data.body']))"
      ],
      "execution_count": null,
      "outputs": [
        {
          "output_type": "stream",
          "text": [
            "###\n",
            "User: jeremytracy1996\n",
            "Score: 2\n",
            "Comment: Thank God, my cancer is in remission because I am taking Gleevec chemotherapy pills everyday. I have to take Gleevec the rest of my life. I am lucky to have a 2nd chance at life.\n",
            "\n",
            "###\n",
            "User: Bwdd\n",
            "Score: 1\n",
            "Comment: Sorry this happened to you. How are you doing?\n",
            "\n",
            "###\n",
            "User: Bwdd\n",
            "Score: 1\n",
            "Comment: Glad you’re doing well. How are you tolerating the Gleevec?\n",
            "\n",
            "###\n",
            "User: jeremytracy1996\n",
            "Score: 1\n",
            "Comment: Gleevec is hard on my body. It makes me tired, and it sucks the life out of me. I have many side effects from it. I get horrible muscle spasms that are painful so I have to take tums and Magnesium Oxide everyday. I have to take Imodium because diarrhea is a side effect for me, and I have Anemia from it so I have to take pre-natal pills for that. I am going to pick up the pre-natal pills today. In addition, I can not work because the Gleevec drains me so I am poor now. \n",
            "\n",
            "Unfortunately, my cat scan results came back that I might have cancer in my colon and I have a lump on my breasts that I am going for a mammogram this coming Thursday. Yay for me! I do not want to keep going through this fight alone if my cancer is back. I am going to let the cancer eat me from the inside out until I am dead. \n",
            "\n",
            "I am grateful for my daughter, Shania, who has helped our family household financially during this financially challenging time. Shania tries understanding what I am going through, and she has been supportive of my decisions.\n",
            "\n"
          ],
          "name": "stdout"
        }
      ]
    },
    {
      "cell_type": "code",
      "metadata": {
        "id": "xmXH6OCBcDg-",
        "colab_type": "code",
        "colab": {
          "base_uri": "https://localhost:8080/",
          "height": 939
        },
        "outputId": "dc02daf4-1655-4250-812c-89a058b69076"
      },
      "source": [
        "from socialreaper import Reddit\n",
        "from socialreaper.tools import flatten\n",
        "\n",
        "rdt = Reddit(\"I6tELJ5iOfBuew\", \"MRIpTXLYFq_E3RLzI0P2kKy-TcM\")\n",
        " \n",
        "comments = rdt.subreddit_thread_comments(\"iPhone_7\", thread_count=50, \n",
        "    comment_count=500, thread_order=\"top\", comment_order=\"top\", \n",
        "    search_time_period=\"all\")\n",
        "    \n",
        "# Convert nested dictionary into flat dictionary\n",
        "comments = [flatten(comment) for comment in comments]\n",
        "\n",
        "# Sort by comment score\n",
        "comments = sorted(comments, key=lambda k: k['data.score'], reverse=True)\n",
        "\n",
        "# Print the top 10\n",
        "for comment in comments[:9]:\n",
        "    print(\"###\\nUser: {}\\nScore: {}\\nComment: {}\\n\".format(comment['data.author'], comment['data.score'], comment['data.body']))"
      ],
      "execution_count": null,
      "outputs": [
        {
          "output_type": "stream",
          "text": [
            "###\n",
            "User: blaughlin\n",
            "Score: 4\n",
            "Comment: IF it shatters...\n",
            "\n",
            "I've run naked iPhones since the original one and never shattered one, a few dents and scratches but that's what they are for, to be enjoyed and not to baby them for the next owner.\n",
            "\n",
            "###\n",
            "User: Fireman2085\n",
            "Score: 4\n",
            "Comment: With a charger... like every other phone, ever.\n",
            "\n",
            "###\n",
            "User: BuzakaSteve\n",
            "Score: 3\n",
            "Comment: I done it and it's regretful. The battery life is noticeboard and you will notice the LTE signal is weaker in smaller phones. \n",
            "\n",
            "###\n",
            "User: [deleted]\n",
            "Score: 3\n",
            "Comment: I've never used a case on any of my phones and never had a problem because of it, although I'm pretty gentle with my phones and I don't drop them. But I would say if you're someone who is prone to dropping your phone you should probably put a case on it. \n",
            "Also just got a new iPhone 7 in jet black and I'm not putting a case on it 😎😎 come at me scratches 🤗\n",
            "\n",
            "###\n",
            "User: beglhrnyc\n",
            "Score: 3\n",
            "Comment: The rhino is good. No bulk but good protection. And you can see and feel the design of the iphone. \n",
            "\n",
            "At the moment using this one \n",
            "\n",
            "https://www.twelvesouth.com/product/relaxedleather-for-iphone\n",
            "\n",
            "###\n",
            "User: Apple_Eater2000\n",
            "Score: 3\n",
            "Comment: Don't be afraid to \"exercise\" your battery. There's nothing wrong with letting your iPhone battery run out completely. In fact, it actually has some benefits.\n",
            "\n",
            "###\n",
            "User: jpett0502\n",
            "Score: 2\n",
            "Comment: Why don't you just use the lightening headphones WITH the iPad? \n",
            "\n",
            "###\n",
            "User: omtnt\n",
            "Score: 2\n",
            "Comment: Yes. I've noticed the same. Battery health at 86%. What gives?\n",
            "\n",
            "###\n",
            "User: zuna2469\n",
            "Score: 2\n",
            "Comment: i have the same problem so i watch youtube videos about saving battery and that helps a lil then i just updated to ios beta 12.1.3 and so far my battery life is doing better\n",
            "\n"
          ],
          "name": "stdout"
        }
      ]
    }
  ]
}